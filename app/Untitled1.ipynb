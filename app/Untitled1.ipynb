{
 "cells": [
  {
   "cell_type": "code",
   "execution_count": 1,
   "id": "3bfe8f53",
   "metadata": {},
   "outputs": [
    {
     "name": "stdout",
     "output_type": "stream",
     "text": [
      "Training Step: 799  | total loss: \u001b[1m\u001b[32m0.13647\u001b[0m\u001b[0m | time: 0.008s\n",
      "| Adam | epoch: 200 | loss: 0.13647 - acc: 0.9936 -- iter: 24/29\n",
      "Training Step: 800  | total loss: \u001b[1m\u001b[32m0.12704\u001b[0m\u001b[0m | time: 0.008s\n",
      "| Adam | epoch: 200 | loss: 0.12704 - acc: 0.9942 -- iter: 29/29\n",
      "--\n",
      "INFO:tensorflow:C:\\Users\\suriy\\apii\\app\\app\\model.tflearn is not in all_model_checkpoint_paths. Manually adding it.\n",
      "INFO:tensorflow:C:\\Users\\suriy\\apii\\app\\app\\model.tflearn.data-00000-of-00001\n",
      "INFO:tensorflow:0\n",
      "INFO:tensorflow:C:\\Users\\suriy\\apii\\app\\app\\model.tflearn.index\n",
      "INFO:tensorflow:0\n",
      "INFO:tensorflow:C:\\Users\\suriy\\apii\\app\\app\\model.tflearn.meta\n",
      "INFO:tensorflow:100\n"
     ]
    }
   ],
   "source": [
    "#Imports\n",
    "import nltk\n",
    "import os\n",
    "from nltk.stem.lancaster import LancasterStemmer\n",
    "import numpy as np\n",
    "import tflearn\n",
    "import tensorflow as tf\n",
    "import random\n",
    "import json\n",
    "import pickle\n",
    "from tensorflow.python.framework import ops\n",
    "\n",
    "#Loading Data\n",
    "with open(\"intents.json\") as file:\n",
    "\tdata = json.load(file)\n",
    "  \n",
    "#Initializing empty lists\n",
    "words = []\n",
    "labels = []\n",
    "docs_x = []\n",
    "docs_y = []\n",
    "\n",
    "#Looping through our data\n",
    "for intent in data['intents']:\n",
    "\tfor pattern in intent['patterns']:\n",
    "\t\tpattern = pattern.lower()\n",
    "    \t\t#Creating a list of words\n",
    "\t\twrds = nltk.word_tokenize(pattern)\n",
    "\t\twords.extend(wrds)\n",
    "\t\tdocs_x.append(wrds)\n",
    "\t\tdocs_y.append(intent['tag'])\n",
    "\n",
    "\tif intent['tag'] not in labels:\n",
    "\t  labels.append(intent['tag'])\n",
    "  \n",
    "stemmer = LancasterStemmer()\n",
    "words = [stemmer.stem(w.lower()) for w in words if w not in \"?\"]\n",
    "words = sorted(list(set(words)))\n",
    "labels = sorted(labels)\n",
    "\n",
    "training = []\n",
    "output = []\n",
    "\n",
    "out_empty = [0 for _ in range(len(labels))]\n",
    "for x,doc in enumerate(docs_x):\n",
    "\tbag = []\n",
    "\twrds = [stemmer.stem(w) for w in doc]\n",
    "\tfor w in words:\n",
    "\t\tif w in wrds:\n",
    "\t\t\tbag.append(1)\n",
    "\t\telse:\n",
    "\t\t\tbag.append(0)\n",
    "\toutput_row = out_empty[:]\n",
    "\toutput_row[labels.index(docs_y[x])] = 1\n",
    "\ttraining.append(bag)\n",
    "\toutput.append(output_row)\n",
    "#Converting training data into NumPy arrays\n",
    "training = np.array(training)\n",
    "output = np.array(output)\n",
    "\n",
    "#Saving data to disk\n",
    "with open(\"data.pickle\",\"wb\") as f:\n",
    "\tpickle.dump((words, labels, training, output),f)\n",
    " \n",
    "\n",
    "ops.reset_default_graph()\n",
    "\n",
    "net = tflearn.input_data(shape = [None, len(training[0])])\n",
    "net = tflearn.fully_connected(net,8)\n",
    "net = tflearn.fully_connected(net,8)\n",
    "net = tflearn.fully_connected(net,len(output[0]), activation = \"softmax\")\n",
    "net = tflearn.regression(net)\n",
    "\n",
    "model = tflearn.DNN(net)\n",
    "x=model.fit(training, output, n_epoch = 200, batch_size = 8, show_metric = True)\n",
    "model.save(\"model.tflearn\")"
   ]
  },
  {
   "cell_type": "code",
   "execution_count": null,
   "id": "fe51a3fb",
   "metadata": {},
   "outputs": [],
   "source": [
    "\n"
   ]
  },
  {
   "cell_type": "code",
   "execution_count": null,
   "id": "01d5f019",
   "metadata": {},
   "outputs": [],
   "source": [
    "\n"
   ]
  },
  {
   "cell_type": "code",
   "execution_count": null,
   "id": "03aa4640",
   "metadata": {},
   "outputs": [],
   "source": []
  },
  {
   "cell_type": "code",
   "execution_count": null,
   "id": "c3b6b511",
   "metadata": {},
   "outputs": [],
   "source": []
  }
 ],
 "metadata": {
  "kernelspec": {
   "display_name": "Python 3 (ipykernel)",
   "language": "python",
   "name": "python3"
  },
  "language_info": {
   "codemirror_mode": {
    "name": "ipython",
    "version": 3
   },
   "file_extension": ".py",
   "mimetype": "text/x-python",
   "name": "python",
   "nbconvert_exporter": "python",
   "pygments_lexer": "ipython3",
   "version": "3.9.12"
  }
 },
 "nbformat": 4,
 "nbformat_minor": 5
}
