{
 "cells": [
  {
   "cell_type": "code",
   "execution_count": null,
   "id": "d6109883",
   "metadata": {},
   "outputs": [],
   "source": []
  },
  {
   "cell_type": "code",
   "execution_count": null,
   "id": "e6d93ba8",
   "metadata": {},
   "outputs": [
    {
     "name": "stdout",
     "output_type": "stream",
     "text": [
      "INFO:tensorflow:Restoring parameters from C:\\Users\\suriy\\apii\\app\\app\\model.tflearn\n",
      " * Serving Flask app \"__main__\" (lazy loading)\n",
      " * Environment: production\n",
      "\u001b[31m   WARNING: This is a development server. Do not use it in a production deployment.\u001b[0m\n",
      "\u001b[2m   Use a production WSGI server instead.\u001b[0m\n",
      " * Debug mode: off\n"
     ]
    },
    {
     "name": "stderr",
     "output_type": "stream",
     "text": [
      " * Running on http://127.0.0.1:5000/ (Press CTRL+C to quit)\n",
      "127.0.0.1 - - [13/Aug/2022 16:09:21] \"GET /get?msg=sddnwd%20wd%20wd%20 HTTP/1.1\" 200 -\n"
     ]
    },
    {
     "name": "stdout",
     "output_type": "stream",
     "text": [
      "result :  greeting\n",
      "sddnwd wd wd \n"
     ]
    },
    {
     "name": "stderr",
     "output_type": "stream",
     "text": [
      "127.0.0.1 - - [13/Aug/2022 16:10:13] \"GET /get?msg= HTTP/1.1\" 200 -\n",
      "127.0.0.1 - - [13/Aug/2022 16:10:15] \"GET /get?msg= HTTP/1.1\" 200 -\n",
      "127.0.0.1 - - [13/Aug/2022 16:10:52] \"GET /get?msg=hello HTTP/1.1\" 200 -\n"
     ]
    },
    {
     "name": "stdout",
     "output_type": "stream",
     "text": [
      "result :  greeting\n",
      "hello\n"
     ]
    },
    {
     "name": "stderr",
     "output_type": "stream",
     "text": [
      "127.0.0.1 - - [13/Aug/2022 16:10:57] \"GET /get?msg=hello HTTP/1.1\" 200 -\n"
     ]
    },
    {
     "name": "stdout",
     "output_type": "stream",
     "text": [
      "result :  greeting\n",
      "hello\n"
     ]
    },
    {
     "name": "stderr",
     "output_type": "stream",
     "text": [
      "127.0.0.1 - - [13/Aug/2022 16:11:01] \"GET /get?msg=hello HTTP/1.1\" 200 -\n"
     ]
    },
    {
     "name": "stdout",
     "output_type": "stream",
     "text": [
      "result :  greeting\n",
      "hello\n"
     ]
    },
    {
     "name": "stderr",
     "output_type": "stream",
     "text": [
      "127.0.0.1 - - [13/Aug/2022 16:11:05] \"GET /get?msg=hello HTTP/1.1\" 200 -\n"
     ]
    },
    {
     "name": "stdout",
     "output_type": "stream",
     "text": [
      "result :  greeting\n",
      "hello\n"
     ]
    }
   ],
   "source": [
    "#Imports\n",
    "from flask import Flask, render_template, request, jsonify\n",
    "import nltk\n",
    "import datetime\n",
    "from nltk.stem.lancaster import LancasterStemmer\n",
    "import numpy as np\n",
    "import tflearn\n",
    "import tensorflow as tf\n",
    "import random\n",
    "import json\n",
    "import pickle\n",
    "\n",
    "stemmer = LancasterStemmer()\n",
    "seat_count = 50\n",
    "\n",
    "with open(\"intents.json\") as file:\n",
    "\tdata = json.load(file)\n",
    "with open(\"data.pickle\",\"rb\") as f:\n",
    "\twords, labels, training, output = pickle.load(f)\n",
    "\n",
    "#Function to process input\n",
    "def bag_of_words(s, words):\n",
    "\tbag = [0 for _ in range(len(words))]\n",
    "\t\n",
    "\ts_words = nltk.word_tokenize(s)\n",
    "\ts_words = [stemmer.stem(word.lower()) for word in s_words]\n",
    "\n",
    "\tfor se in s_words:\n",
    "\t\tfor i,w in enumerate(words):\n",
    "\t\t\tif w == se:\n",
    "\t\t\t\tbag[i] = 1\n",
    "\n",
    "\treturn np.array(bag)\n",
    "\n",
    "from tensorflow.python.framework import ops\n",
    "\n",
    "ops.reset_default_graph()\n",
    "net = tflearn.input_data(shape = [None, len(training[0])])\n",
    "net = tflearn.fully_connected(net,8)\n",
    "net = tflearn.fully_connected(net,8)\n",
    "net = tflearn.fully_connected(net,len(output[0]), activation = \"softmax\")\n",
    "net = tflearn.regression(net)\n",
    "\n",
    "#Loading existing model from disk\n",
    "model = tflearn.DNN(net)\n",
    "model.load(\"model.tflearn\")\n",
    "\n",
    "miss={\"tag\" : \"missing\",\n",
    "     \"responsee\" : \"type something\"}\n",
    "\n",
    "app = Flask(__name__)\n",
    "\n",
    "@app.route('/')\n",
    "def index():\n",
    "\treturn render_template('index.html')\n",
    "\n",
    "@app.route('/get')\n",
    "def get_bot_response():\n",
    "    global seat_count\n",
    "    message = request.args.get('msg')\n",
    "    \n",
    "    if message:\n",
    "        message = message.lower()\n",
    "        message=message.replace('+',' ')\n",
    "        results = model.predict([bag_of_words(message,words)])[0]\n",
    "        result_index = np.argmax(results)\n",
    "        tag = labels[result_index]\n",
    "        print(\"result : \",tag)  \n",
    "        print(message)\n",
    "\n",
    "        if results[result_index] > 0.5:\n",
    "            if tag == \"checkstock\":\n",
    "                \n",
    "                response = \"Your stock is follows\"\n",
    "                data2 = {\"tag\" : tag,\n",
    "                         \"responsee\" : str(response),}\n",
    "        \n",
    "                return jsonify(data2)\n",
    "                \n",
    "\n",
    "            elif tag == \"available_tables\":\n",
    "                response = \"There are \" + str(seat_count) + \" tables available at the moment.\"\n",
    "\n",
    "           \n",
    "            else:\n",
    "                for tg in data['intents']:\n",
    "                    if tg['tag'] == tag:\n",
    "                        responses = tg['responses']\n",
    "                response = random.choice(responses)\n",
    "                data2 = {\"tag\" : tag,\n",
    "                         \"responsee\" : str(response),}\n",
    "                return jsonify(data2)\n",
    "        else:\n",
    "            response = \"I didn't quite get that, please try again.\"\n",
    "            data2 = {\n",
    "            \"tag\" : tag,\n",
    "            \"responsee\" : str(response),\n",
    "            }\n",
    "        return jsonify(data2)\n",
    "    return miss\n",
    "\n",
    "\n",
    "    \n",
    "if __name__ == \"__main__\":\n",
    "    app.run()"
   ]
  },
  {
   "cell_type": "code",
   "execution_count": null,
   "id": "9b3c2ae6",
   "metadata": {},
   "outputs": [],
   "source": []
  }
 ],
 "metadata": {
  "kernelspec": {
   "display_name": "Python 3 (ipykernel)",
   "language": "python",
   "name": "python3"
  },
  "language_info": {
   "codemirror_mode": {
    "name": "ipython",
    "version": 3
   },
   "file_extension": ".py",
   "mimetype": "text/x-python",
   "name": "python",
   "nbconvert_exporter": "python",
   "pygments_lexer": "ipython3",
   "version": "3.9.12"
  }
 },
 "nbformat": 4,
 "nbformat_minor": 5
}
